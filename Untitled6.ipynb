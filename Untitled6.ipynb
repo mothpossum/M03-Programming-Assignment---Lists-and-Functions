{
 "cells": [
  {
   "cell_type": "code",
   "execution_count": 1,
   "id": "1f5b8b31",
   "metadata": {},
   "outputs": [
    {
     "name": "stdout",
     "output_type": "stream",
     "text": [
      "Initial list of things\n",
      "['mozzarella', 'cinderella ', 'salmonella']\n",
      "List with person being capitalized\n",
      "['mozzarella', 'Cinderella ', 'salmonella']\n",
      "List with cheesy thing converted to upper\n",
      "['MOZZARELLA', 'Cinderella ', 'salmonella']\n",
      "List with disease removed \n",
      "['MOZZARELLA', 'Cinderella ']\n",
      "List with new element\n",
      "['MOZZARELLA', 'Cinderella ', 'Noble Prize']\n"
     ]
    }
   ],
   "source": [
    "\n",
    "thing=[\"mozzarella\", \"cinderella \", \"salmonella\"]\n",
    "print(\"Initial list of things\")\n",
    "print(thing)\n",
    "thing[1]=thing[1].capitalize()\n",
    "print(\"List with person being capitalized\")\n",
    "print(thing)\n",
    "thing[0]=thing[0].upper()\n",
    "print(\"List with cheesy thing converted to upper\")\n",
    "print(thing)\n",
    "print(\"List with disease removed \")\n",
    "thing.remove(thing[2])\n",
    "print(thing)\n",
    "#add this if that is what is mend\n",
    "print(\"List with new element\")\n",
    "thing.append(\"Noble Prize\")\n",
    "print(thing)"
   ]
  },
  {
   "cell_type": "code",
   "execution_count": 5,
   "id": "f5d87c61",
   "metadata": {},
   "outputs": [],
   "source": [
    "def good():\n",
    "    return ['Harry', 'Ron', 'Hermione']"
   ]
  },
  {
   "cell_type": "code",
   "execution_count": 4,
   "id": "3121bf92",
   "metadata": {},
   "outputs": [
    {
     "name": "stdout",
     "output_type": "stream",
     "text": [
      "5\n"
     ]
    }
   ],
   "source": [
    "limit = 10\n",
    "get_odds = (num for num in range(limit) if not num % 2 == 0)\n",
    "count = 0\n",
    "for num in get_odds:\n",
    "    if count == 2:\n",
    "        print(num)\n",
    "        break\n",
    "    count += 1"
   ]
  },
  {
   "cell_type": "code",
   "execution_count": null,
   "id": "10166d62",
   "metadata": {},
   "outputs": [],
   "source": []
  }
 ],
 "metadata": {
  "kernelspec": {
   "display_name": "Python 3 (ipykernel)",
   "language": "python",
   "name": "python3"
  },
  "language_info": {
   "codemirror_mode": {
    "name": "ipython",
    "version": 3
   },
   "file_extension": ".py",
   "mimetype": "text/x-python",
   "name": "python",
   "nbconvert_exporter": "python",
   "pygments_lexer": "ipython3",
   "version": "3.9.13"
  }
 },
 "nbformat": 4,
 "nbformat_minor": 5
}
